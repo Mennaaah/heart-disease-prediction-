{
 "cells": [
  {
   "cell_type": "code",
   "execution_count": null,
   "metadata": {},
   "outputs": [],
   "source": [
    "#to check with the eng: cost function, gender is calculated 3ady?!\n",
    "#all we want to the least is w? \n",
    "#the graph of cost function is ghareb?\n",
    "#check accuracy vs iteration\n",
    "#check the way i though about pca\n",
    "#pca chart?!!!\n",
    "#number of iterations"
   ]
  },
  {
   "cell_type": "code",
   "execution_count": 5,
   "metadata": {},
   "outputs": [],
   "source": [
    "import pandas as pd\n",
    "import numpy as np\n",
    "import matplotlib.pyplot as plt\n",
    "from sklearn.model_selection import train_test_split\n"
   ]
  },
  {
   "cell_type": "code",
   "execution_count": 2,
   "metadata": {},
   "outputs": [],
   "source": [
    "file='heart.csv'\n",
    "df=pd.read_csv(file)\n"
   ]
  },
  {
   "cell_type": "code",
   "execution_count": 3,
   "metadata": {},
   "outputs": [
    {
     "data": {
      "text/html": [
       "<div>\n",
       "<style scoped>\n",
       "    .dataframe tbody tr th:only-of-type {\n",
       "        vertical-align: middle;\n",
       "    }\n",
       "\n",
       "    .dataframe tbody tr th {\n",
       "        vertical-align: top;\n",
       "    }\n",
       "\n",
       "    .dataframe thead th {\n",
       "        text-align: right;\n",
       "    }\n",
       "</style>\n",
       "<table border=\"1\" class=\"dataframe\">\n",
       "  <thead>\n",
       "    <tr style=\"text-align: right;\">\n",
       "      <th></th>\n",
       "      <th>age</th>\n",
       "      <th>sex</th>\n",
       "      <th>cp</th>\n",
       "      <th>trestbps</th>\n",
       "      <th>chol</th>\n",
       "      <th>fbs</th>\n",
       "      <th>restecg</th>\n",
       "      <th>thalach</th>\n",
       "      <th>exang</th>\n",
       "      <th>oldpeak</th>\n",
       "      <th>slope</th>\n",
       "      <th>ca</th>\n",
       "      <th>thal</th>\n",
       "      <th>target</th>\n",
       "    </tr>\n",
       "  </thead>\n",
       "  <tbody>\n",
       "    <tr>\n",
       "      <th>0</th>\n",
       "      <td>63</td>\n",
       "      <td>1</td>\n",
       "      <td>3</td>\n",
       "      <td>145</td>\n",
       "      <td>233</td>\n",
       "      <td>1</td>\n",
       "      <td>0</td>\n",
       "      <td>150</td>\n",
       "      <td>0</td>\n",
       "      <td>2.3</td>\n",
       "      <td>0</td>\n",
       "      <td>0</td>\n",
       "      <td>1</td>\n",
       "      <td>1</td>\n",
       "    </tr>\n",
       "    <tr>\n",
       "      <th>1</th>\n",
       "      <td>37</td>\n",
       "      <td>1</td>\n",
       "      <td>2</td>\n",
       "      <td>130</td>\n",
       "      <td>250</td>\n",
       "      <td>0</td>\n",
       "      <td>1</td>\n",
       "      <td>187</td>\n",
       "      <td>0</td>\n",
       "      <td>3.5</td>\n",
       "      <td>0</td>\n",
       "      <td>0</td>\n",
       "      <td>2</td>\n",
       "      <td>1</td>\n",
       "    </tr>\n",
       "    <tr>\n",
       "      <th>2</th>\n",
       "      <td>41</td>\n",
       "      <td>0</td>\n",
       "      <td>1</td>\n",
       "      <td>130</td>\n",
       "      <td>204</td>\n",
       "      <td>0</td>\n",
       "      <td>0</td>\n",
       "      <td>172</td>\n",
       "      <td>0</td>\n",
       "      <td>1.4</td>\n",
       "      <td>2</td>\n",
       "      <td>0</td>\n",
       "      <td>2</td>\n",
       "      <td>1</td>\n",
       "    </tr>\n",
       "    <tr>\n",
       "      <th>3</th>\n",
       "      <td>56</td>\n",
       "      <td>1</td>\n",
       "      <td>1</td>\n",
       "      <td>120</td>\n",
       "      <td>236</td>\n",
       "      <td>0</td>\n",
       "      <td>1</td>\n",
       "      <td>178</td>\n",
       "      <td>0</td>\n",
       "      <td>0.8</td>\n",
       "      <td>2</td>\n",
       "      <td>0</td>\n",
       "      <td>2</td>\n",
       "      <td>1</td>\n",
       "    </tr>\n",
       "    <tr>\n",
       "      <th>4</th>\n",
       "      <td>57</td>\n",
       "      <td>0</td>\n",
       "      <td>0</td>\n",
       "      <td>120</td>\n",
       "      <td>354</td>\n",
       "      <td>0</td>\n",
       "      <td>1</td>\n",
       "      <td>163</td>\n",
       "      <td>1</td>\n",
       "      <td>0.6</td>\n",
       "      <td>2</td>\n",
       "      <td>0</td>\n",
       "      <td>2</td>\n",
       "      <td>1</td>\n",
       "    </tr>\n",
       "  </tbody>\n",
       "</table>\n",
       "</div>"
      ],
      "text/plain": [
       "   age  sex  cp  trestbps  chol  fbs  restecg  thalach  exang  oldpeak  slope  \\\n",
       "0   63    1   3       145   233    1        0      150      0      2.3      0   \n",
       "1   37    1   2       130   250    0        1      187      0      3.5      0   \n",
       "2   41    0   1       130   204    0        0      172      0      1.4      2   \n",
       "3   56    1   1       120   236    0        1      178      0      0.8      2   \n",
       "4   57    0   0       120   354    0        1      163      1      0.6      2   \n",
       "\n",
       "   ca  thal  target  \n",
       "0   0     1       1  \n",
       "1   0     2       1  \n",
       "2   0     2       1  \n",
       "3   0     2       1  \n",
       "4   0     2       1  "
      ]
     },
     "execution_count": 3,
     "metadata": {},
     "output_type": "execute_result"
    }
   ],
   "source": [
    "df.head()"
   ]
  },
  {
   "cell_type": "raw",
   "metadata": {},
   "source": [
    "Least square method"
   ]
  },
  {
   "cell_type": "code",
   "execution_count": 7,
   "metadata": {},
   "outputs": [],
   "source": [
    "#from sklearn doc:The Ridge regressor has a classifier variant: RidgeClassifier. This classifier first converts binary targets to {-1, 1} and then treats the problem as a regression task(least square method)from sklearn.linear_model import RidgeClassifier\n",
    "from sklearn.linear_model import RidgeClassifier\n",
    "\n",
    "X=df.iloc[:,:-1]\n",
    "y=df.iloc[:,-1]\n",
    "X_train_least, X_test_least, y_train_least, y_test_least = train_test_split(X, y, test_size = 0.3, shuffle = True, random_state = 1)\n",
    "least_model=RidgeClassifier()\n",
    "least_model.fit(X,y)\n",
    "train_accuracy_least= least_model.score(X_train_least, y_train_least)\n",
    "test_accuracy_least = least_model.score(X_test_least, y_test_least)"
   ]
  },
  {
   "cell_type": "code",
   "execution_count": 8,
   "metadata": {},
   "outputs": [
    {
     "data": {
      "text/plain": [
       "0.8537735849056604"
      ]
     },
     "execution_count": 8,
     "metadata": {},
     "output_type": "execute_result"
    }
   ],
   "source": [
    "train_accuracy_least"
   ]
  },
  {
   "cell_type": "code",
   "execution_count": 9,
   "metadata": {},
   "outputs": [
    {
     "data": {
      "text/plain": [
       "0.8131868131868132"
      ]
     },
     "execution_count": 9,
     "metadata": {},
     "output_type": "execute_result"
    }
   ],
   "source": [
    "test_accuracy_least"
   ]
  },
  {
   "cell_type": "code",
   "execution_count": 5,
   "metadata": {},
   "outputs": [
    {
     "data": {
      "text/plain": [
       "array([-8.20415178e-04, -1.95995553e-01,  1.12703391e-01, -1.99096545e-03,\n",
       "       -3.53538744e-04,  1.73736362e-02,  4.98479529e-02,  3.01932913e-03,\n",
       "       -1.44045931e-01, -5.87886904e-02,  7.89788053e-02, -1.00602157e-01,\n",
       "       -1.19039167e-01,  8.28898681e-01])"
      ]
     },
     "execution_count": 5,
     "metadata": {},
     "output_type": "execute_result"
    }
   ],
   "source": [
    "#X_least=np.hstack((df[['age','sex','cp','trestbps','chol','fbs','restecg','thalach','exang','oldpeak','slope','ca','thal']].values,np.ones((len(df),1))))\n",
    "#Y_least=df['target'].values\n",
    "#W=np.linalg.pinv(X_least.T@X_least)@(X_least.T@Y_least)\n",
    "#W1=W[0]\n",
    "#W2=W[1]\n",
    "#W0=W[2]\n",
    "#W"
   ]
  },
  {
   "cell_type": "code",
   "execution_count": null,
   "metadata": {},
   "outputs": [],
   "source": []
  },
  {
   "cell_type": "code",
   "execution_count": null,
   "metadata": {},
   "outputs": [],
   "source": []
  },
  {
   "cell_type": "raw",
   "metadata": {},
   "source": [
    "logistic regresiion"
   ]
  },
  {
   "cell_type": "code",
   "execution_count": 6,
   "metadata": {},
   "outputs": [],
   "source": [
    "#X=np.hstack((df[['age','sex','cp','trestbps','chol','fbs','restecg','thalach','exang','oldpeak','slope','ca','thal']].values,np.ones((len(df),1))))\n",
    "#df['log y'] = [1 if i>0 else 0 for i in df['target']]"
   ]
  },
  {
   "cell_type": "code",
   "execution_count": 7,
   "metadata": {},
   "outputs": [
    {
     "name": "stderr",
     "output_type": "stream",
     "text": [
      "C:\\Users\\pc\\Anaconda3\\mianaconda\\lib\\site-packages\\ipykernel_launcher.py:15: RuntimeWarning: divide by zero encountered in log\n",
      "  from ipykernel import kernelapp as app\n"
     ]
    }
   ],
   "source": [
    "#iterations=10000\n",
    "#alpha=1/1000\n",
    "#m=len(df['age'])\n",
    "#w = np.zeros(14)\n",
    "#iter_list=[]\n",
    "#cost=[]\n",
    "#accur=[]\n",
    "#for i in range(iterations):\n",
    "    #iter_list.append(i)\n",
    "    #y_hat2 = X@w\n",
    "    #sig = 1/(1+np.exp(-1*y_hat2))\n",
    "    #error=(sig - df['log y'])@X\n",
    "    #w = w - (alpha/m)*error\n",
    "    #y_p =[1 if i>=0.5 else 0 for i in sig]\n",
    "    #cost_temp=-1*df['log y']*np.log(sig)-(1-df['log y'])*np.log(1-sig)\n",
    "    #cost.append(cost_temp)\n",
    "    #accur.append(np.mean(y_p==df['log y']))"
   ]
  },
  {
   "cell_type": "code",
   "execution_count": 10,
   "metadata": {},
   "outputs": [],
   "source": [
    "#w\n",
    "from sklearn.linear_model import LogisticRegression\n",
    "#X=df.iloc[:,:-1]\n",
    "#y=df.iloc[:,-1]\n",
    "X_train, X_test, y_train, y_test = train_test_split(X, y, test_size = 0.3, shuffle = True, random_state = 1)\n"
   ]
  },
  {
   "cell_type": "code",
   "execution_count": 11,
   "metadata": {},
   "outputs": [
    {
     "name": "stderr",
     "output_type": "stream",
     "text": [
      "C:\\Users\\pc\\Anaconda3\\mianaconda\\lib\\site-packages\\sklearn\\linear_model\\logistic.py:433: FutureWarning: Default solver will be changed to 'lbfgs' in 0.22. Specify a solver to silence this warning.\n",
      "  FutureWarning)\n"
     ]
    }
   ],
   "source": [
    "#training the regression model\n",
    "classifier = LogisticRegression()\n",
    "classifier.fit(X_train, y_train)\n",
    "train_accuracy_log = classifier.score(X_train, y_train)\n",
    "test_accuracy_log = classifier.score(X_test, y_test)"
   ]
  },
  {
   "cell_type": "code",
   "execution_count": 12,
   "metadata": {},
   "outputs": [
    {
     "data": {
      "text/plain": [
       "0.7912087912087912"
      ]
     },
     "execution_count": 12,
     "metadata": {},
     "output_type": "execute_result"
    }
   ],
   "source": [
    "test_accuracy_log"
   ]
  },
  {
   "cell_type": "code",
   "execution_count": 13,
   "metadata": {},
   "outputs": [
    {
     "data": {
      "text/plain": [
       "0.8726415094339622"
      ]
     },
     "execution_count": 13,
     "metadata": {},
     "output_type": "execute_result"
    }
   ],
   "source": [
    "train_accuracy_log"
   ]
  },
  {
   "cell_type": "code",
   "execution_count": 24,
   "metadata": {},
   "outputs": [
    {
     "data": {
      "text/plain": [
       "array([15], dtype=int32)"
      ]
     },
     "execution_count": 24,
     "metadata": {},
     "output_type": "execute_result"
    }
   ],
   "source": []
  },
  {
   "cell_type": "code",
   "execution_count": 8,
   "metadata": {},
   "outputs": [
    {
     "data": {
      "text/plain": [
       "60.726072607260726"
      ]
     },
     "execution_count": 8,
     "metadata": {},
     "output_type": "execute_result"
    }
   ],
   "source": [
    "accur[-1]*100"
   ]
  },
  {
   "cell_type": "code",
   "execution_count": 9,
   "metadata": {},
   "outputs": [
    {
     "data": {
      "text/plain": [
       "Text(0.5, 1.0, 'Accuracy VS iteration in logistic regression')"
      ]
     },
     "execution_count": 9,
     "metadata": {},
     "output_type": "execute_result"
    },
    {
     "data": {
      "image/png": "[encoded data removed]",
      "text/plain": [
       "<Figure size 432x288 with 1 Axes>"
      ]
     },
     "metadata": {
      "needs_background": "light"
     },
     "output_type": "display_data"
    }
   ],
   "source": [
    "plt.plot(iter_list,accur)\n",
    "plt.xlabel(\"iterations\")\n",
    "plt.ylabel(\"accuracy\")\n",
    "plt.title(\"Accuracy VS iteration in logistic regression\")"
   ]
  },
  {
   "cell_type": "code",
   "execution_count": null,
   "metadata": {},
   "outputs": [],
   "source": [
    "#when iteerations were= 500000 the accurcy reached 75.24%"
   ]
  },
  {
   "cell_type": "code",
   "execution_count": 10,
   "metadata": {},
   "outputs": [
    {
     "data": {
      "text/plain": [
       "Text(0.5, 1.0, 'cost VS iteration in logistic regression')"
      ]
     },
     "execution_count": 10,
     "metadata": {},
     "output_type": "execute_result"
    },
    {
     "data": {
      "image/png": "[encoded data removed]",
      "text/plain": [
       "<Figure size 432x288 with 1 Axes>"
      ]
     },
     "metadata": {
      "needs_background": "light"
     },
     "output_type": "display_data"
    }
   ],
   "source": [
    "plt.plot(iter_list,cost)\n",
    "plt.xlabel(\"iterations\")\n",
    "plt.ylabel(\"cost\")\n",
    "plt.title(\"cost VS iteration in logistic regression\")"
   ]
  },
  {
   "cell_type": "code",
   "execution_count": 12,
   "metadata": {},
   "outputs": [],
   "source": [
    "# from sklearn.preprocessing import MinMaxScaler\n",
    "# xsc=df.iloc[:, :-1].values\n",
    "# ysc=df.iloc[:, -1].values\n",
    "# # normalizing the features before pca\n",
    "# #xsc = StandardScaler().fit_transform(xsc) \n",
    "# scaler = MinMaxScaler()\n",
    "# xsc = scaler.fit_transform(xsc)"
   ]
  },
  {
   "cell_type": "code",
   "execution_count": 16,
   "metadata": {},
   "outputs": [],
   "source": [
    "# #95% of variance\n",
    "# from sklearn.decomposition import PCA\n",
    "# pca = PCA(n_components = 0.99)\n",
    "# pca.fit(xsc)\n",
    "# reduced = pca.transform(xsc)\n"
   ]
  },
  {
   "cell_type": "code",
   "execution_count": 34,
   "metadata": {},
   "outputs": [],
   "source": [
    "import numpy as np\n",
    "from sklearn.decomposition import PCA\n",
    "from sklearn.preprocessing import MinMaxScaler"
   ]
  },
  {
   "cell_type": "code",
   "execution_count": 36,
   "metadata": {},
   "outputs": [
    {
     "name": "stderr",
     "output_type": "stream",
     "text": [
      "C:\\Users\\pc\\Anaconda3\\mianaconda\\lib\\site-packages\\sklearn\\preprocessing\\data.py:323: DataConversionWarning: Data with input dtype int64, float64 were all converted to float64 by MinMaxScaler.\n",
      "  return self.partial_fit(X, y)\n"
     ]
    }
   ],
   "source": [
    "#scaler = MinMaxScaler(feature_range=[0, 1])\n",
    "data_rescaled = scaler.fit_transform(df.iloc[:, :-1])"
   ]
  },
  {
   "cell_type": "code",
   "execution_count": 37,
   "metadata": {},
   "outputs": [
    {
     "data": {
      "image/png": "[encoded data removed]",
      "text/plain": [
       "<Figure size 432x288 with 1 Axes>"
      ]
     },
     "metadata": {
      "needs_background": "light"
     },
     "output_type": "display_data"
    }
   ],
   "source": [
    "#Fitting the PCA algorithm with Data\n",
    "#pca = PCA().fit(data_rescaled)\n",
    "#Plotting the Cumulative Summation of the Explained Variance\n",
    "#plt.figure()\n",
    "#plt.plot(np.cumsum(pca.explained_variance_ratio_))\n",
    "#plt.xlabel('Number of Components')\n",
    "#plt.ylabel('Variance (%)') #for each component\n",
    "#plt.title('Pulsar Dataset Explained Variance')\n",
    "#plt.show()"
   ]
  },
  {
   "cell_type": "code",
   "execution_count": 42,
   "metadata": {},
   "outputs": [],
   "source": [
    "from sklearn.preprocessing import StandardScaler\n",
    "\n",
    "x=df.iloc[:, :-1].values\n",
    "y=df.iloc[:, -1].values\n",
    "# normalizing the features before pca\n",
    "x = StandardScaler().fit_transform(x) "
   ]
  },
  {
   "cell_type": "markdown",
   "metadata": {},
   "source": [
    "As the PCA aims to choose the components with the largest variations, we will use the component with at least .85 varience\n",
    "and it reduces the data set features to 9 components, as .9 does not reduce the components that much, so .85 is a high amount of vairence and also reduced the components from 13 to 9"
   ]
  },
  {
   "cell_type": "code",
   "execution_count": 102,
   "metadata": {},
   "outputs": [
    {
     "data": {
      "text/plain": [
       "array([[ 0.62411073,  2.32127028,  2.47467255, ..., -0.12035163,\n",
       "         0.73655675, -0.6389401 ],\n",
       "       [-0.45598798, -0.95735098,  1.1395948 , ..., -0.08151336,\n",
       "         1.53538405,  1.24182435],\n",
       "       [-1.82880491,  0.04288477, -0.45222878, ..., -0.1048519 ,\n",
       "        -0.06352322,  1.29320203],\n",
       "       ...,\n",
       "       [ 2.45900545,  0.47826191,  2.20821632, ...,  0.54379228,\n",
       "         0.71011094,  0.25210999],\n",
       "       [ 1.76275536, -2.33681621,  0.45475258, ...,  0.44242717,\n",
       "        -1.18143939, -0.35298085],\n",
       "       [-0.86005677,  1.06851556, -0.69007429, ..., -0.74407818,\n",
       "         0.16377019,  0.8017775 ]])"
      ]
     },
     "execution_count": 102,
     "metadata": {},
     "output_type": "execute_result"
    }
   ],
   "source": [
    "#we aim to choose the deatures that have largest varience so I will choose the components to have maximum .8, and pca will choose itself the number\n",
    "from sklearn.decomposition import PCA\n",
    "pca= PCA(.85)\n",
    "principalComponents = pca.fit_transform(x)\n",
    "principalComponents"
   ]
  },
  {
   "cell_type": "code",
   "execution_count": 103,
   "metadata": {},
   "outputs": [
    {
     "data": {
      "text/plain": [
       "array([0.21254053, 0.11820708, 0.09406418, 0.09085735, 0.07861281,\n",
       "       0.07461661, 0.06636692, 0.05968811, 0.05530196])"
      ]
     },
     "execution_count": 103,
     "metadata": {},
     "output_type": "execute_result"
    }
   ],
   "source": [
    "#the number of features depending on the previously mentioned is 9\n",
    "len(principalComponents[1])\n",
    "pca.explained_variance_ratio_"
   ]
  },
  {
   "cell_type": "code",
   "execution_count": 46,
   "metadata": {},
   "outputs": [],
   "source": [
    "newdf = pd.DataFrame(data = principalComponents\n",
    "             , columns = ['principal component 1', 'principal component 2','principal component 3','principal component 4','principal component 5',\n",
    "                         'principal component 6','principal component 7','principal component 8','principal component 9'])"
   ]
  },
  {
   "cell_type": "code",
   "execution_count": 53,
   "metadata": {},
   "outputs": [],
   "source": [
    "newdf.head()\n",
    "x_new=newdf.iloc[:,:]"
   ]
  },
  {
   "cell_type": "code",
   "execution_count": 54,
   "metadata": {},
   "outputs": [],
   "source": [
    "#applying least sqaure method on the new data frame with the new components\n",
    "X_train_least_new, X_test_least_new, y_train_least_new, y_test_least_new = train_test_split(x_new, y, test_size = 0.3, shuffle = True, random_state = 1)\n",
    "least_model_new=RidgeClassifier()\n",
    "least_model_new.fit(x_new,y)\n",
    "train_accuracy_least_new= least_model_new.score(X_train_least_new, y_train_least_new)\n",
    "test_accuracy_least_new = least_model_new.score(X_test_least_new, y_test_least_new)\n"
   ]
  },
  {
   "cell_type": "code",
   "execution_count": 55,
   "metadata": {},
   "outputs": [
    {
     "data": {
      "text/plain": [
       "0.8537735849056604"
      ]
     },
     "execution_count": 55,
     "metadata": {},
     "output_type": "execute_result"
    }
   ],
   "source": [
    "train_accuracy_least_new"
   ]
  },
  {
   "cell_type": "code",
   "execution_count": 56,
   "metadata": {},
   "outputs": [
    {
     "data": {
      "text/plain": [
       "0.8241758241758241"
      ]
     },
     "execution_count": 56,
     "metadata": {},
     "output_type": "execute_result"
    }
   ],
   "source": [
    "test_accuracy_least_new"
   ]
  },
  {
   "cell_type": "code",
   "execution_count": 58,
   "metadata": {},
   "outputs": [
    {
     "name": "stderr",
     "output_type": "stream",
     "text": [
      "C:\\Users\\pc\\Anaconda3\\mianaconda\\lib\\site-packages\\sklearn\\linear_model\\logistic.py:433: FutureWarning: Default solver will be changed to 'lbfgs' in 0.22. Specify a solver to silence this warning.\n",
      "  FutureWarning)\n"
     ]
    }
   ],
   "source": [
    "#training the regression model to the new data frame after applying pca\n",
    "X_train_reg_new, X_test_reg_new, y_train_reg_new, y_test_reg_new = train_test_split(x_new, y, test_size = 0.3, shuffle = True, random_state = 1)\n",
    "classifier_new = LogisticRegression()\n",
    "classifier_new.fit(X_train_reg_new, y_train_reg_new)\n",
    "train_accuracy_log_new = classifier_new.score(X_train_reg_new, y_train_reg_new)\n",
    "test_accuracy_log_new = classifier_new.score(X_test_reg_new, y_test_reg_new)"
   ]
  },
  {
   "cell_type": "code",
   "execution_count": 59,
   "metadata": {},
   "outputs": [
    {
     "data": {
      "text/plain": [
       "0.8632075471698113"
      ]
     },
     "execution_count": 59,
     "metadata": {},
     "output_type": "execute_result"
    }
   ],
   "source": [
    "train_accuracy_log_new"
   ]
  },
  {
   "cell_type": "code",
   "execution_count": 60,
   "metadata": {},
   "outputs": [
    {
     "data": {
      "text/plain": [
       "0.7912087912087912"
      ]
     },
     "execution_count": 60,
     "metadata": {},
     "output_type": "execute_result"
    }
   ],
   "source": [
    "test_accuracy_log_new"
   ]
  },
  {
   "cell_type": "code",
   "execution_count": 71,
   "metadata": {},
   "outputs": [
    {
     "name": "stdout",
     "output_type": "stream",
     "text": [
      "training accuracy for original least sqaure method is : 85.37735849056604 % \n",
      " testing accuracy for original least sqaure method is : 81.31868131868131 % \n",
      "\n",
      "training accuracy for original logistic regression is : 87.26415094339622 % \n",
      " testing accuracy for original logistic regression is : 79.12087912087912 % \n",
      "\n",
      "training accuracy for least square method after applying pca is : 85.37735849056604 % \n",
      " testing accuracy for least square method after applying pca is : 82.41758241758241 % \n",
      "\n",
      "training accuracy for logistic regression after applying pca is : 86.32075471698113 % \n",
      " testing accuracy for logistic regression after applying pca is : 79.12087912087912 % \n",
      "\n"
     ]
    }
   ],
   "source": [
    "print (f\"training accuracy for original least sqaure method is : {train_accuracy_least*100} % \\n testing accuracy for original least sqaure method is : {test_accuracy_least*100} % \\n\")\n",
    "print (f\"training accuracy for original logistic regression is : {train_accuracy_log*100} % \\n testing accuracy for original logistic regression is : {test_accuracy_log*100} % \\n\")\n",
    "print (f\"training accuracy for least square method after applying pca is : {train_accuracy_least_new*100} % \\n testing accuracy for least square method after applying pca is : {test_accuracy_least_new*100} % \\n\")\n",
    "print (f\"training accuracy for logistic regression after applying pca is : {train_accuracy_log_new*100} % \\n testing accuracy for logistic regression after applying pca is : {test_accuracy_log_new*100} % \\n\")"
   ]
  },
  {
   "cell_type": "code",
   "execution_count": 88,
   "metadata": {},
   "outputs": [],
   "source": [
    "#-y*log(y^)-(1-y)log(1-y^)\n",
    "pca.explained_variance_ratio_\n",
    "principalComponentsnames=['1', '2','3','4','5',\n",
    "                          '6','7','8','9']"
   ]
  },
  {
   "cell_type": "code",
   "execution_count": 106,
   "metadata": {},
   "outputs": [
    {
     "data": {
      "image/png": "[encoded data removed]",
      "text/plain": [
       "<Figure size 432x288 with 1 Axes>"
      ]
     },
     "metadata": {
      "needs_background": "light"
     },
     "output_type": "display_data"
    }
   ],
   "source": [
    "#plotting pca components and the explained varience ratio \n",
    "\n",
    "\n",
    "plt.bar(principalComponentsnames,pca.explained_variance_ratio_*100)\n",
    "plt.show()"
   ]
  },
  {
   "cell_type": "code",
   "execution_count": 93,
   "metadata": {},
   "outputs": [
    {
     "data": {
      "text/plain": [
       "array([2.772176  , 1.54178039, 1.22688342, 1.18505659, 1.02535054,\n",
       "       0.97322784, 0.86562678, 0.77851473, 0.72130605])"
      ]
     },
     "execution_count": 93,
     "metadata": {},
     "output_type": "execute_result"
    }
   ],
   "source": [
    "pca.explained_variance_"
   ]
  },
  {
   "cell_type": "code",
   "execution_count": 132,
   "metadata": {},
   "outputs": [],
   "source": [
    "#trying to implement with tensor flow in order to draw the accuracy/ cost with iterations:\n",
    "#I have never used tensor flow, however, accroding to an advice from you, Enginner Passant; I tried to find a template of tensor flow \n",
    "#using the logistic regression and editied it to fit my data, in order to visulaize the accuracy and cost with epochos as it is not supported by sklearn\n",
    "import tensorflow as tf \n",
    "x_orig = df.iloc[:, 1:-1].values \n",
    "  \n",
    "\n",
    "y_orig = df.iloc[:, -1:].values \n",
    "\n",
    "\n"
   ]
  },
  {
   "cell_type": "code",
   "execution_count": null,
   "metadata": {},
   "outputs": [],
   "source": [
    "\n",
    "\n",
    "    "
   ]
  },
  {
   "cell_type": "code",
   "execution_count": 130,
   "metadata": {},
   "outputs": [
    {
     "data": {
      "text/plain": [
       "<tf.Tensor 'strided_slice:0' shape=(4, 1, 2) dtype=float32>"
      ]
     },
     "execution_count": 130,
     "metadata": {},
     "output_type": "execute_result"
    }
   ],
   "source": []
  },
  {
   "cell_type": "code",
   "execution_count": 138,
   "metadata": {},
   "outputs": [
    {
     "name": "stderr",
     "output_type": "stream",
     "text": [
      "C:\\Users\\pc\\Anaconda3\\mianaconda\\lib\\site-packages\\sklearn\\preprocessing\\_encoders.py:368: FutureWarning: The handling of integer data will change in version 0.22. Currently, the categories are determined based on the range [0, max(values)], while in the future they will be determined based on the unique values.\n",
      "If you want the future behaviour and silence this warning, you can specify \"categories='auto'\".\n",
      "In case you used a LabelEncoder before this OneHotEncoder to convert the categories to integers, then you can now use the OneHotEncoder directly.\n",
      "  warnings.warn(msg, FutureWarning)\n",
      "C:\\Users\\pc\\Anaconda3\\mianaconda\\lib\\site-packages\\sklearn\\preprocessing\\_encoders.py:368: FutureWarning: The handling of integer data will change in version 0.22. Currently, the categories are determined based on the range [0, max(values)], while in the future they will be determined based on the unique values.\n",
      "If you want the future behaviour and silence this warning, you can specify \"categories='auto'\".\n",
      "In case you used a LabelEncoder before this OneHotEncoder to convert the categories to integers, then you can now use the OneHotEncoder directly.\n",
      "  warnings.warn(msg, FutureWarning)\n"
     ]
    }
   ],
   "source": [
    "from sklearn.preprocessing import OneHotEncoder \n",
    "\n",
    "oneHot = OneHotEncoder() \n",
    "  \n",
    "oneHot.fit(x_orig) \n",
    "x = oneHot.transform(x_orig).toarray() \n",
    "  \n",
    "oneHot.fit(y_orig) \n",
    "y = oneHot.transform(y_orig).toarray() \n",
    "\n",
    "alpha, epochs = 0.0035, 1000"
   ]
  },
  {
   "cell_type": "code",
   "execution_count": 135,
   "metadata": {},
   "outputs": [],
   "source": [
    "m, n = x.shape \n",
    "X = tf.placeholder(tf.float32, [None, n]) \n",
    "\n",
    "\n",
    "Y = tf.placeholder(tf.float32, [None, 2]) \n",
    "  \n",
    "W = tf.Variable(tf.zeros([n, 2])) \n",
    "  \n",
    "b = tf.Variable(tf.zeros([2])) \n"
   ]
  },
  {
   "cell_type": "code",
   "execution_count": 136,
   "metadata": {},
   "outputs": [],
   "source": [
    "# Hypothesis \n",
    "Y_hat = tf.nn.sigmoid(tf.add(tf.matmul(X, W), b)) \n",
    "  \n",
    "# Sigmoid Cross Entropy Cost Function \n",
    "cost = tf.nn.sigmoid_cross_entropy_with_logits( \n",
    "                    logits = Y_hat, labels = Y) \n",
    "  \n",
    "# Gradient Descent Optimizer \n",
    "optimizer = tf.train.GradientDescentOptimizer( \n",
    "         learning_rate = alpha).minimize(cost) \n",
    "  \n",
    "# Global Variables Initializer \n",
    "init = tf.global_variables_initializer() "
   ]
  },
  {
   "cell_type": "code",
   "execution_count": 139,
   "metadata": {},
   "outputs": [],
   "source": [
    "# Starting the Tensorflow Session \n",
    "with tf.Session() as sess: \n",
    "      \n",
    "    # Initializing the Variables \n",
    "    sess.run(init) \n",
    "      \n",
    "    # Lists for storing the changing Cost and Accuracy in every Epoch \n",
    "    cost_history, accuracy_history = [], [] \n",
    "      \n",
    "    # Iterating through all the epochs \n",
    "    for epoch in range(epochs): \n",
    "        cost_per_epoch = 0\n",
    "          \n",
    "        # Running the Optimizer \n",
    "        sess.run(optimizer, feed_dict = {X : x, Y : y}) \n",
    "          \n",
    "        # Calculating cost on current Epoch \n",
    "        c = sess.run(cost, feed_dict = {X : x, Y : y}) \n",
    "          \n",
    "        # Calculating accuracy on current Epoch \n",
    "        correct_prediction = tf.equal(tf.argmax(Y_hat, 1), \n",
    "                                          tf.argmax(Y, 1)) \n",
    "        accuracy = tf.reduce_mean(tf.cast(correct_prediction, \n",
    "                                                 tf.float32)) \n",
    "          \n",
    "        # Storing Cost and Accuracy to the history \n",
    "        cost_history.append(sum(sum(c))) \n",
    "        accuracy_history.append(accuracy.eval({X : x, Y : y}) * 100) \n",
    "          \n",
    "        # Displaying result on current Epoch \n",
    "        #if epoch % 100 == 0 and epoch != 0: \n",
    "            #print(\"Epoch \" + str(epoch) + \" Cost: \"\n",
    "             #               + str(cost_history[-1])) \n",
    "      \n",
    "    Weight = sess.run(W) # Optimized Weight \n",
    "    Bias = sess.run(b)   # Optimized Bias \n",
    "      \n",
    "    # Final Accuracy \n",
    "    correct_prediction = tf.equal(tf.argmax(Y_hat, 1), \n",
    "                                      tf.argmax(Y, 1)) \n",
    "    accuracy = tf.reduce_mean(tf.cast(correct_prediction,  \n",
    "                                             tf.float32)) \n",
    "    #print(\"\\nAccuracy:\", accuracy_history[-1], \"%\") "
   ]
  },
  {
   "cell_type": "code",
   "execution_count": 142,
   "metadata": {},
   "outputs": [
    {
     "name": "stdout",
     "output_type": "stream",
     "text": [
      "\n",
      "Accuracy: 91.08911156654358 %\n"
     ]
    }
   ],
   "source": [
    "print(\"\\nAccuracy:\", accuracy_history[-1], \"%\") "
   ]
  },
  {
   "cell_type": "code",
   "execution_count": 140,
   "metadata": {},
   "outputs": [
    {
     "data": {
      "image/png": "[encoded data removed]",
      "text/plain": [
       "<Figure size 432x288 with 1 Axes>"
      ]
     },
     "metadata": {
      "needs_background": "light"
     },
     "output_type": "display_data"
    }
   ],
   "source": [
    "plt.plot(list(range(epochs)), cost_history) \n",
    "plt.xlabel('Epochs') \n",
    "plt.ylabel('Cost') \n",
    "plt.title('Decrease in Cost with Epochs') \n",
    "  \n",
    "plt.show() "
   ]
  },
  {
   "cell_type": "code",
   "execution_count": 141,
   "metadata": {},
   "outputs": [
    {
     "data": {
      "image/png": "[encoded data removed]",
      "text/plain": [
       "<Figure size 432x288 with 1 Axes>"
      ]
     },
     "metadata": {
      "needs_background": "light"
     },
     "output_type": "display_data"
    }
   ],
   "source": [
    "plt.plot(list(range(epochs)), accuracy_history) \n",
    "plt.xlabel('Epochs') \n",
    "plt.ylabel('Accuracy') \n",
    "plt.title('Increase in Accuracy with Epochs') \n",
    "  \n",
    "plt.show() "
   ]
  },
  {
   "cell_type": "markdown",
   "metadata": {},
   "source": [
    "Note:After applying logistic regression with tensor flow and increasing the number of epochs the accuracy increased than the ones done with sk.learn."
   ]
  },
  {
   "cell_type": "markdown",
   "metadata": {},
   "source": [
    "The logistic regression is known to have better acuuracy so, it is more recommended especially in this vritical case of heart diesese "
   ]
  }
 ],
 "metadata": {
  "kernelspec": {
   "display_name": "Python 3",
   "language": "python",
   "name": "python3"
  },
  "language_info": {
   "codemirror_mode": {
    "name": "ipython",
    "version": 3
   },
   "file_extension": ".py",
   "mimetype": "text/x-python",
   "name": "python",
   "nbconvert_exporter": "python",
   "pygments_lexer": "ipython3",
   "version": "3.7.1"
  }
 },
 "nbformat": 4,
 "nbformat_minor": 2
}
